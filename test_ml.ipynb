import pandas pd
import numpy as np

print('hello pandas')
